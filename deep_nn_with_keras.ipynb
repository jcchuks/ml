{
  "nbformat": 4,
  "nbformat_minor": 0,
  "metadata": {
    "colab": {
      "name": "Untitled0.ipynb",
      "version": "0.3.2",
      "provenance": [],
      "include_colab_link": true
    },
    "kernelspec": {
      "name": "python3",
      "display_name": "Python 3"
    }
  },
  "cells": [
    {
      "cell_type": "markdown",
      "metadata": {
        "id": "view-in-github",
        "colab_type": "text"
      },
      "source": [
        "<a href=\"https://colab.research.google.com/github/jcchuks/ml/blob/master/deep_nn_with_keras.ipynb\" target=\"_parent\"><img src=\"https://colab.research.google.com/assets/colab-badge.svg\" alt=\"Open In Colab\"/></a>"
      ]
    },
    {
      "metadata": {
        "id": "fp5SunE1DVuH",
        "colab_type": "code",
        "colab": {}
      },
      "cell_type": "code",
      "source": [
        "import tensorflow as tf\n",
        "import matplotlib.pyplot as plt\n",
        "ds = tf.keras.datasets\n",
        "mnist = ds.mnist"
      ],
      "execution_count": 0,
      "outputs": []
    },
    {
      "metadata": {
        "id": "HiBx_btSEGlr",
        "colab_type": "code",
        "colab": {
          "base_uri": "https://localhost:8080/",
          "height": 54
        },
        "outputId": "38ca7412-a303-4e1d-9616-4e628662dee7"
      },
      "cell_type": "code",
      "source": [
        "print (dir(ds)) #trying to find out what data sets are available"
      ],
      "execution_count": 8,
      "outputs": [
        {
          "output_type": "stream",
          "text": [
            "['__builtins__', '__cached__', '__doc__', '__file__', '__loader__', '__name__', '__package__', '__path__', '__spec__', 'boston_housing', 'cifar10', 'cifar100', 'fashion_mnist', 'imdb', 'mnist', 'reuters']\n"
          ],
          "name": "stdout"
        }
      ]
    },
    {
      "metadata": {
        "id": "e0clmHucDaCA",
        "colab_type": "code",
        "colab": {}
      },
      "cell_type": "code",
      "source": [
        "optimizer = \"adam\"\n",
        "loss = \"sparse_categorical_crossentropy\"\n",
        "(x_train, y_train), (x_test, y_test) = mnist.load_data()\n",
        "metrics = [\"accuracy\"]\n",
        "model = tf.keras.models.Sequential()\n"
      ],
      "execution_count": 0,
      "outputs": []
    },
    {
      "metadata": {
        "id": "_FG64oQuGKmT",
        "colab_type": "code",
        "colab": {
          "base_uri": "https://localhost:8080/",
          "height": 381
        },
        "outputId": "6ceae924-f48b-4111-f511-b4b6762f54f4"
      },
      "cell_type": "code",
      "source": [
        "x_train = tf.keras.utils.normalize(x_train,axis=1)\n",
        "x_test = tf.keras.utils.normalize(x_test, axis=1)\n",
        "plt.imshow(x_train[0])\n",
        "print(x_train.shape)\n",
        "print (y_train.shape)"
      ],
      "execution_count": 34,
      "outputs": [
        {
          "output_type": "stream",
          "text": [
            "(60000, 28, 28)\n",
            "(60000,)\n"
          ],
          "name": "stdout"
        },
        {
          "output_type": "display_data",
          "data": {
            "image/png": "[encoded data removed]",
            "text/plain": [
              "<Figure size 576x396 with 1 Axes>"
            ]
          },
          "metadata": {
            "tags": []
          }
        }
      ]
    },
    {
      "metadata": {
        "id": "ELAb2OmhHJO1",
        "colab_type": "code",
        "colab": {
          "base_uri": "https://localhost:8080/",
          "height": 50
        },
        "outputId": "d9ad1487-6cca-4f5d-de56-05c204d49fef"
      },
      "cell_type": "code",
      "source": [
        "print (x_test.shape)\n",
        "print (y_test.shape)"
      ],
      "execution_count": 35,
      "outputs": [
        {
          "output_type": "stream",
          "text": [
            "(10000, 28, 28)\n",
            "(10000,)\n"
          ],
          "name": "stdout"
        }
      ]
    },
    {
      "metadata": {
        "id": "5EbAOHHTEx9Y",
        "colab_type": "code",
        "colab": {}
      },
      "cell_type": "code",
      "source": [
        "noOfNeuronsPerHiddenLayer = 100\n",
        "noOfOutputLayerNeurons = 10\n"
      ],
      "execution_count": 0,
      "outputs": []
    },
    {
      "metadata": {
        "id": "jfUWjHJcElUa",
        "colab_type": "code",
        "colab": {
          "base_uri": "https://localhost:8080/",
          "height": 134
        },
        "outputId": "5771fda0-c840-4fe3-9529-8f635ca04720"
      },
      "cell_type": "code",
      "source": [
        "model.add(tf.keras.layers.Flatten()) #input layer\n",
        "model.add(tf.keras.layers.Dense(noOfNeuronsPerHiddenLayer, activation=tf.nn.relu)) #hidden layer\n",
        "model.add(tf.keras.layers.Dense(noOfNeuronsPerHiddenLayer, activation=tf.nn.relu)) #hidden layer\n",
        "model.add(tf.keras.layers.Dense(noOfOutputLayerNeurons, activation=tf.nn.softmax)) #output layer \n",
        "model.compile(optimizer = optimizer, loss = loss, metrics = metrics) \n",
        "model.fit(x_train, y_train, epochs=3) #epoch means number of passes through the entire training data set."
      ],
      "execution_count": 37,
      "outputs": [
        {
          "output_type": "stream",
          "text": [
            "Epoch 1/3\n",
            "60000/60000 [==============================] - 7s 124us/sample - loss: 0.2829 - acc: 0.9161\n",
            "Epoch 2/3\n",
            "60000/60000 [==============================] - 7s 114us/sample - loss: 0.1154 - acc: 0.9645\n",
            "Epoch 3/3\n",
            "60000/60000 [==============================] - 8s 127us/sample - loss: 0.0795 - acc: 0.9747\n"
          ],
          "name": "stdout"
        },
        {
          "output_type": "execute_result",
          "data": {
            "text/plain": [
              "<tensorflow.python.keras.callbacks.History at 0x7f7e56206400>"
            ]
          },
          "metadata": {
            "tags": []
          },
          "execution_count": 37
        }
      ]
    },
    {
      "metadata": {
        "id": "iH3y6qJxHVUR",
        "colab_type": "code",
        "colab": {
          "base_uri": "https://localhost:8080/",
          "height": 34
        },
        "outputId": "8855fa07-3478-4dbe-ba1e-8558cf35828a"
      },
      "cell_type": "code",
      "source": [
        "val_loss, val_acc = model.evaluate(x_test, y_test) #evaluate tests model performance"
      ],
      "execution_count": 38,
      "outputs": [
        {
          "output_type": "stream",
          "text": [
            "10000/10000 [==============================] - 0s 47us/sample - loss: 0.0973 - acc: 0.9698\n"
          ],
          "name": "stdout"
        }
      ]
    },
    {
      "metadata": {
        "id": "YLCzSCfeHvZb",
        "colab_type": "code",
        "colab": {}
      },
      "cell_type": "code",
      "source": [
        "model.save(\"mnist_model\") #saving a model with keras"
      ],
      "execution_count": 0,
      "outputs": []
    },
    {
      "metadata": {
        "id": "N9gqvuyMImsi",
        "colab_type": "code",
        "colab": {
          "base_uri": "https://localhost:8080/",
          "height": 54
        },
        "outputId": "a45edca3-0199-4945-f966-657256916f00"
      },
      "cell_type": "code",
      "source": [
        "mmodel = tf.keras.models.load_model(\"mnist_model\")  #loading a model with keras"
      ],
      "execution_count": 41,
      "outputs": [
        {
          "output_type": "stream",
          "text": [
            "WARNING:tensorflow:Sequential models without an `input_shape` passed to the first layer cannot reload their optimizer state. As a result, your model isstarting with a freshly initialized optimizer.\n"
          ],
          "name": "stdout"
        }
      ]
    },
    {
      "metadata": {
        "id": "oeZID1djI05m",
        "colab_type": "code",
        "colab": {}
      },
      "cell_type": "code",
      "source": [
        "predictions = mmodel.predict(x_test) #predicts, note x_test is an array"
      ],
      "execution_count": 0,
      "outputs": []
    },
    {
      "metadata": {
        "id": "6GVEPm-0JFYV",
        "colab_type": "code",
        "colab": {
          "base_uri": "https://localhost:8080/",
          "height": 235
        },
        "outputId": "b9b84265-7676-4080-99b6-f147c1530896"
      },
      "cell_type": "code",
      "source": [
        "print (predictions)"
      ],
      "execution_count": 45,
      "outputs": [
        {
          "output_type": "stream",
          "text": [
            "[[7.21104954e-10 5.68375569e-09 4.57036404e-05 ... 9.99949694e-01\n",
            "  8.60421956e-09 1.59149309e-07]\n",
            " [2.15612985e-07 1.44676724e-03 9.97729242e-01 ... 8.31637522e-07\n",
            "  9.43807972e-05 7.49208340e-09]\n",
            " [5.24733252e-08 9.99509454e-01 5.02600706e-05 ... 1.68749189e-04\n",
            "  1.65105390e-04 1.94475069e-06]\n",
            " ...\n",
            " [6.47721654e-10 4.03370905e-07 1.50992548e-07 ... 6.37446237e-06\n",
            "  2.10890562e-06 1.13995549e-04]\n",
            " [3.46157390e-06 7.10410802e-07 1.68638238e-07 ... 7.26198664e-07\n",
            "  7.20347790e-03 1.14753924e-07]\n",
            " [4.87982379e-06 5.70409640e-08 1.87107992e-06 ... 1.24619515e-08\n",
            "  7.19372929e-06 3.60637898e-07]]\n"
          ],
          "name": "stdout"
        }
      ]
    },
    {
      "metadata": {
        "id": "secmDQFCJkvK",
        "colab_type": "code",
        "colab": {
          "base_uri": "https://localhost:8080/",
          "height": 381
        },
        "outputId": "fae63b69-53ac-4cd9-b490-0f61130407db"
      },
      "cell_type": "code",
      "source": [
        "import numpy as np\n",
        "\n",
        "print (np.argmax(predictions[0]))  # argmax is used to return the index of the highest value in the array. corresponds to the highest probable number\n",
        "plt.imshow(x_test[0])"
      ],
      "execution_count": 51,
      "outputs": [
        {
          "output_type": "stream",
          "text": [
            "7\n"
          ],
          "name": "stdout"
        },
        {
          "output_type": "execute_result",
          "data": {
            "text/plain": [
              "<matplotlib.image.AxesImage at 0x7f7e55fd1f28>"
            ]
          },
          "metadata": {
            "tags": []
          },
          "execution_count": 51
        },
        {
          "output_type": "display_data",
          "data": {
            "image/png": "[encoded data removed]",
            "text/plain": [
              "<Figure size 576x396 with 1 Axes>"
            ]
          },
          "metadata": {
            "tags": []
          }
        }
      ]
    },
    {
      "metadata": {
        "id": "s_Ig5s3qJvGx",
        "colab_type": "code",
        "colab": {}
      },
      "cell_type": "code",
      "source": [
        ""
      ],
      "execution_count": 0,
      "outputs": []
    }
  ]
}